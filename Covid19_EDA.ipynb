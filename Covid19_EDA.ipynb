{
 "cells": [
  {
   "cell_type": "markdown",
   "metadata": {},
   "source": [
    "# COVID-19 Data Visualization and Exploratory Data Analysis"
   ]
  },
  {
   "cell_type": "markdown",
   "metadata": {},
   "source": [
    "## Data Source\n",
    "The following is a portfolio project in which the Our World in Data Covid-19 dataset is explored.  A copy of the dataset can be found at [this site](https://github.com/owid/covid-19-data/tree/master/public/data).\n",
    "\n",
    "The data comes from the COVID-19 Data Repository by the Center of Systems Science and Engineering (CSSE) at Johns Hopkins University.  The dataset contains data regarding confirmed cases and deaths, hospitalizations, testing for COVID-19, vaccinations against COVID-19, and other variables.  In this notebook, we will perform exploratory data analysis on the COVID-19 dataset.  Run the code snippet below to prepare this Jupyter notebook."
   ]
  },
  {
   "cell_type": "code",
   "execution_count": 1,
   "metadata": {},
   "outputs": [],
   "source": [
    "import ipywidgets as widgets\n",
    "import seaborn as sns\n",
    "import matplotlib.pyplot as plt\n"
   ]
  },
  {
   "cell_type": "markdown",
   "metadata": {},
   "source": [
    "## Data Ingestion\n",
    "Ingested the data into a SQL server instance.  The data should have two tables: CovidDeaths and CovidVaccinations.  Alternatively, use the code below to create the database in your SQL server instance."
   ]
  },
  {
   "cell_type": "markdown",
   "metadata": {},
   "source": [
    "### CovidDeaths spreadsheet fields: \n",
    "The CovidDeaths spreadsheet file should have these fields in the following order:\n",
    "\n",
    "iso_code, continent, location, date, population, total_cases, new_cases, new_cases_smoothed, total_deaths, new_deaths, new_deaths_smoothed, total_cases_per_million, new_cases_per_million, new_cases_smoothed_per_million, total_deaths_per_million, new_deaths_per_million, new_deaths_smoothed_per_million, reproduction_rate, icu_patients, icu_patients_per_million, hosp_patients, hosp_patients_per_million, weekly_icu_admissions, weekly_icu_admissions_per_million, weekly_hosp_admissions, weekly_hosp_admissions_per_million, total_tests\n",
    "\n",
    "### CovidVaccination spreadsheet fields: \n",
    "The CovidVaccination spreadsheet file should have these fields in the following order:\n",
    "\n",
    "iso_code, continent, location, date, total_tests, new_tests, total_tests_per_thousand, new_tests_per_thousand, new_tests_smoothed, new_tests_smoothed_per_thousand, positive_rate, tests_per_case, tests_units, total_vaccinations, people_vaccinated, people_fully_vaccinated, total_boosters, new_vaccinations, new_vaccinations_smoothed, total_vaccinations_per_hundred, people_vaccinated_per_hundred, people_fully_vaccinated_per_hundred, total_boosters_per_hundred, new_vaccinations_smoothed_per_million, new_people_vaccinated_smoothed, new_people_vaccinated_smoothed_per_hundred, stringency_index, population, population_density, median_age, aged_65_older, aged_70_older, gdp_per_capita, extreme_poverty, cardiovasc_death_rate, diabetes_prevalence, female_smokers, male_smokers, handwashing_facilities, hospital_beds_per_thousand, life_expectancy, human_development_index, excess_mortality_cumulative_absolute, excess_mortality_cumulative, excess_mortality, excess_mortality_cumulative_per_million\n",
    "\n",
    "Finally, import these two files to create two tables: PorfolioProject..CovidDeaths and PorfolioProject..CovidVaccination\n",
    "\n",
    "## Connect to the database\n",
    "Finally, connect to the database that has been created and next we will explore the data set!"
   ]
  },
  {
   "cell_type": "markdown",
   "metadata": {},
   "source": [
    "## EDA\n",
    "Code for the exploratory data analysis on COVID dataset is below.\n",
    "#### First exploration of CovidDeaths and CovidVaccinations dataset.\n"
   ]
  },
  {
   "cell_type": "code",
   "execution_count": 2,
   "metadata": {
    "vscode": {
     "languageId": "sql"
    }
   },
   "outputs": [
    {
     "ename": "SyntaxError",
     "evalue": "invalid syntax (1618866794.py, line 1)",
     "output_type": "error",
     "traceback": [
      "\u001b[1;36m  Input \u001b[1;32mIn [2]\u001b[1;36m\u001b[0m\n\u001b[1;33m    Select *\u001b[0m\n\u001b[1;37m            ^\u001b[0m\n\u001b[1;31mSyntaxError\u001b[0m\u001b[1;31m:\u001b[0m invalid syntax\n"
     ]
    }
   ],
   "source": [
    "Select *\n",
    "From PortfolioProject..CovidDeaths\n",
    "where continent is not null\n",
    "order by 3,4\n",
    "\n",
    "Select * \n",
    "From PortfolioProject..CovidVaccinations\n",
    "Where continent is not null\n",
    "order by 3,4\n",
    "\n",
    "Select Location, date, total_cases, new_cases, total_deaths, population\n",
    "From PortfolioProject..CovidDeaths\n",
    "Where continent is not null\n",
    "order by 1,2"
   ]
  },
  {
   "cell_type": "markdown",
   "metadata": {},
   "source": [
    "#### Looking at Total Cases vs. Total Deaths\n",
    "#### Shows likelihood of dying if you contract COVID in the US."
   ]
  },
  {
   "cell_type": "code",
   "execution_count": null,
   "metadata": {
    "vscode": {
     "languageId": "sql"
    }
   },
   "outputs": [],
   "source": [
    "Select Location, date, total_cases, total_deaths, (total_deaths/total_cases)*100 AS DeathPercentage\n",
    "From PortfolioProject..CovidDeaths\n",
    "where Location like '%states%'\n",
    "Where continent is not null\n",
    "order by 1,2"
   ]
  },
  {
   "cell_type": "markdown",
   "metadata": {},
   "source": [
    "#### Looking at Total Cases vs. Population."
   ]
  },
  {
   "cell_type": "code",
   "execution_count": null,
   "metadata": {
    "vscode": {
     "languageId": "sql"
    }
   },
   "outputs": [],
   "source": [
    "Select Location, date, total_cases, population, (total_cases/population)*100 as CasePercentage\n",
    "From PortfolioProject..CovidDeaths\n",
    "Where continent is not null\n",
    "order by 1,2"
   ]
  },
  {
   "cell_type": "markdown",
   "metadata": {},
   "source": [
    "#### Looking at Countries with Highest Infection Rate Compared to Populations"
   ]
  },
  {
   "cell_type": "code",
   "execution_count": null,
   "metadata": {
    "vscode": {
     "languageId": "sql"
    }
   },
   "outputs": [],
   "source": [
    "Select Location, population, MAX(total_cases) as HighestInfectionCount, Max(total_cases/population)*100 as PercentPopulationInfected\n",
    "From PortfolioProject..CovidDeaths\n",
    "Where continent is not null\n",
    "Group by Location, Population\n",
    "order by PercentPopulationInfected desc"
   ]
  },
  {
   "cell_type": "markdown",
   "metadata": {},
   "source": [
    "#### Showing Countries with Highest Death Count per Population"
   ]
  },
  {
   "cell_type": "code",
   "execution_count": null,
   "metadata": {
    "vscode": {
     "languageId": "sql"
    }
   },
   "outputs": [],
   "source": [
    "Select Location, MAX(cast(total_deaths as int)) as TotalDeathCount\n",
    "From PortfolioProject..CovidDeaths\n",
    "Where continent is not null\n",
    "Group by Location\n",
    "order by TotalDeathCount desc"
   ]
  },
  {
   "cell_type": "markdown",
   "metadata": {},
   "source": [
    "#### Break things down by continent"
   ]
  },
  {
   "cell_type": "code",
   "execution_count": null,
   "metadata": {
    "vscode": {
     "languageId": "sql"
    }
   },
   "outputs": [],
   "source": [
    "Select continent, MAX(cast(total_deaths as int)) as TotalDeathCount\n",
    "From PortfolioProject..CovidDeaths\n",
    "Where continent is not null\n",
    "Group by continent\n",
    "Order by TotalDeathCount desc"
   ]
  },
  {
   "cell_type": "markdown",
   "metadata": {},
   "source": [
    "#### GLOBAL NUMBERS"
   ]
  },
  {
   "cell_type": "code",
   "execution_count": null,
   "metadata": {
    "vscode": {
     "languageId": "sql"
    }
   },
   "outputs": [],
   "source": [
    "Select date, sum(new_cases) as total_cases, sum(cast(new_deaths as int)) as total_deaths, SUM(cast(new_deaths as int))/SUM(new_cases)*100 as DeathPercentage\n",
    "From PortfolioProject..CovidDeaths\n",
    "where continent is not null\n",
    "group by date\n",
    "order by 1,2\n",
    "\n",
    "Select sum(new_cases) as total_cases, sum(cast(new_deaths as int)) as total_deaths, SUM(cast(new_deaths as int))/SUM(new_cases)*100 as DeathPercentage\n",
    "From PortfolioProject..CovidDeaths\n",
    "where continent is not null\n",
    "order by 1,2"
   ]
  },
  {
   "cell_type": "markdown",
   "metadata": {},
   "source": [
    "#### Looking at Total Population versus Vaccinations"
   ]
  },
  {
   "cell_type": "code",
   "execution_count": null,
   "metadata": {
    "vscode": {
     "languageId": "sql"
    }
   },
   "outputs": [],
   "source": [
    "Select dea.continent, dea.location, dea.date, dea.population,  \n",
    "SUM(cast(vac.new_vaccinations as BIGINT)) OVER (Partition by dea.Location Order by dea.location, dea.date) as cumulative_vaccination, \n",
    "sum(cast(dea.new_deaths as BIGINT)) OVER (partition by dea.Location Order by dea.location, dea.date) as cumulative_deaths\n",
    "From PortfolioProject..CovidDeaths dea\n",
    "Join PortfolioProject..CovidVaccinations vac\n",
    " | on dea.location = vac.location\n",
    " | and dea.date = vac.date\n",
    "where dea.continent is not null\n",
    "order by 2,3"
   ]
  },
  {
   "cell_type": "markdown",
   "metadata": {},
   "source": [
    "#### using Common Table Expressions (CTE)\n"
   ]
  },
  {
   "cell_type": "code",
   "execution_count": null,
   "metadata": {
    "vscode": {
     "languageId": "sql"
    }
   },
   "outputs": [],
   "source": [
    "With PopvsVac (continent, location, date, population, cumulative_vaccination, cumulative_deaths)\n",
    "as \n",
    "(\n",
    "Select dea.continent, dea.location, dea.date, dea.population,  \n",
    "SUM(cast(vac.new_vaccinations as BIGINT)) OVER (Partition by dea.Location Order by dea.location, dea.date) as cumulative_vaccination, \n",
    "sum(cast(dea.new_deaths as BIGINT)) OVER (partition by dea.Location Order by dea.location, dea.date) as cumulative_deaths\n",
    "From PortfolioProject..CovidDeaths dea\n",
    "Join PortfolioProject..CovidVaccinations vac\n",
    " | on dea.location = vac.location\n",
    " | and dea.date = vac.date\n",
    "where dea.continent is not null\n",
    ")\n",
    "\n",
    "Select *, (cumulative_vaccination)/population*100 percentage_vaccinated\n",
    "From PopvsVac\n",
    "order by location, date"
   ]
  },
  {
   "cell_type": "markdown",
   "metadata": {},
   "source": [
    "#### using temporary TABLE"
   ]
  },
  {
   "cell_type": "code",
   "execution_count": null,
   "metadata": {
    "vscode": {
     "languageId": "sql"
    }
   },
   "outputs": [],
   "source": [
    "drop table if exists #PercentPopulationVaccinated\n",
    "\n",
    "Create Table #PercentPopulationVaccinated\n",
    "(\n",
    "continent nvarchar(255),\n",
    "location nvarchar(255), \n",
    "date datetime,\n",
    "population numeric, \n",
    "new_vaccination numeric,\n",
    "cumulative_vaccination numeric\n",
    ")\n",
    "\n",
    "Insert into #percentPopulationVaccinated\n",
    "Select dea.continent, dea.location, dea.date, dea.population,  \n",
    "SUM(cast(vac.new_vaccinations as BIGINT)) OVER (Partition by dea.Location Order by dea.location, dea.date) as cumulative_vaccination, \n",
    "sum(cast(dea.new_deaths as BIGINT)) OVER (partition by dea.Location Order by dea.location, dea.date) as cumulative_deaths\n",
    "From PortfolioProject..CovidDeaths dea\n",
    "Join PortfolioProject..CovidVaccinations vac\n",
    " | on dea.location = vac.location\n",
    ", and dea.date = vac.date\n",
    "where dea.continent is not null\n",
    "\n",
    "Select *, (cumulative_vaccination)/population*100 percentage_vaccinated\n",
    "From #percentPopulationVaccinated\n",
    "order by location, date"
   ]
  },
  {
   "cell_type": "markdown",
   "metadata": {},
   "source": [
    "#### Creating view to store data for later visualizations"
   ]
  },
  {
   "cell_type": "code",
   "execution_count": null,
   "metadata": {
    "vscode": {
     "languageId": "sql"
    }
   },
   "outputs": [],
   "source": [
    "Create view PercentPopulationVaccinated as\n",
    "Select dea.continent, dea.location, dea.date, dea.population,  \n",
    "SUM(cast(vac.new_vaccinations as BIGINT)) OVER (Partition by dea.Location Order by dea.location, dea.date) as cumulative_vaccination, \n",
    "sum(cast(dea.new_deaths as BIGINT)) OVER (partition by dea.Location Order by dea.location, dea.date) as cumulative_deaths\n",
    "From PortfolioProject..CovidDeaths dea\n",
    "Join PortfolioProject..CovidVaccinations vac\n",
    "\ton dea.location = vac.location\n",
    "\tand dea.date = vac.date\n",
    "where dea.continent is not null\n",
    "\n",
    "Select * \n",
    "From PercentPopulationVaccinated"
   ]
  }
 ],
 "metadata": {
  "kernelspec": {
   "display_name": "Python 3.10.6 64-bit",
   "language": "python",
   "name": "python3"
  },
  "language_info": {
   "codemirror_mode": {
    "name": "ipython",
    "version": 3
   },
   "file_extension": ".py",
   "mimetype": "text/x-python",
   "name": "python",
   "nbconvert_exporter": "python",
   "pygments_lexer": "ipython3",
   "version": "3.10.6"
  },
  "orig_nbformat": 4,
  "vscode": {
   "interpreter": {
    "hash": "390fbb69812d601ec0976aa52bf2d5a3b84f91a4eff3377650e84b76eb0be6d6"
   }
  }
 },
 "nbformat": 4,
 "nbformat_minor": 2
}
